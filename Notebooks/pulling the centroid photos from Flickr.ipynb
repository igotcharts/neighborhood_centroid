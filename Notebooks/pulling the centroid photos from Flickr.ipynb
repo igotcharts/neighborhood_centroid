{
 "cells": [
  {
   "cell_type": "markdown",
   "metadata": {},
   "source": [
    "### Pulling the centroid photos"
   ]
  },
  {
   "cell_type": "markdown",
   "metadata": {},
   "source": [
    "After taking photos and adding them to my Flickr page, I use this script to pull location information, title, and URL from my photos. From there, I create a .csv of the photo information. Then, using ArcGIS Online, I create a shapefile of the picture locations. Once added to the map, I pull the photos' locations using the URL atribute to present the photograph in the intereactive pop-up window."
   ]
  },
  {
   "cell_type": "code",
   "execution_count": 1,
   "metadata": {
    "collapsed": true
   },
   "outputs": [],
   "source": [
    "#import the flickrapi library\n",
    "import flickrapi"
   ]
  },
  {
   "cell_type": "code",
   "execution_count": 2,
   "metadata": {
    "collapsed": true
   },
   "outputs": [],
   "source": [
    "#sign up for Flickr access: https://www.flickr.com/services/apps/create/apply/?\n",
    "\n",
    "api_key = api_key  #enter your API key here. DO NOT SAVE KEY IF STORE PUBLICLY\n",
    "api_secret = api_secret #enter your API secret here. DO NOT SAVE IF STORED PUBLICLY\n",
    "user_id = user_idea"
   ]
  },
  {
   "cell_type": "code",
   "execution_count": 3,
   "metadata": {
    "collapsed": true
   },
   "outputs": [],
   "source": [
    "#Instantiate Flickr API using your key\n",
    "flickr = flickrapi.FlickrAPI(api_key, api_secret,format='etree')\n",
    "\n",
    "#Build a method name for Albums\n",
    "sets = flickr.photosets.getList(user_id=user_id)"
   ]
  },
  {
   "cell_type": "code",
   "execution_count": null,
   "metadata": {
    "collapsed": true
   },
   "outputs": [],
   "source": [
    "#Determine the possible sets available for use\n",
    "for set in sets.getchildren()[0]:\n",
    "    title = set.getchildren()[0].text\n",
    "    print ((\"id: %s setname: %s photos: %s\") %(set.get('id'), title, set.get('photos')))"
   ]
  },
  {
   "cell_type": "code",
   "execution_count": 17,
   "metadata": {
    "collapsed": false
   },
   "outputs": [],
   "source": [
    "#set the set_ID you want from the output above using the title as a guide\n",
    "set_id = set_id\n",
    "\n",
    "\n",
    "#Use .walk_set to go through the photos in a set, pull information into a dataframe, and combine each dataframe into a sgin\n",
    "\n",
    "#create empty list\n",
    "listing = []\n",
    "\n",
    "for photo in flickr.walk_set(set_id,extras='geo,url_o'):\n",
    "    \n",
    "    #pull items for DataFrame\n",
    "    id_ = (photo.get('id'))\n",
    "    title = (photo.get('title'))\n",
    "    latitude = (photo.get('latitude'))\n",
    "    longitude = (photo.get('longitude'))\n",
    "    url_ = (photo.get('url_o'))\n",
    "    \n",
    "    #create DataFrame for each photo\n",
    "    frame = pd.DataFrame({'Neighborhood':title,'latitude':latitude,'longitude':longitude,'URL':url_},index=[id_])\n",
    "    \n",
    "    #Append list with new DataFrame\n",
    "    listing.append(frame)\n",
    "    \n",
    "    #Combine each DataFrame into a single frame\n",
    "    centroid_photos = pd.concat(listing)"
   ]
  },
  {
   "cell_type": "code",
   "execution_count": 6,
   "metadata": {
    "collapsed": false
   },
   "outputs": [],
   "source": [
    "#save as .csv\n",
    "centroid_photos.to_csv('flickr_updated.csv')"
   ]
  }
 ],
 "metadata": {
  "anaconda-cloud": {},
  "kernelspec": {
   "display_name": "Python [Root]",
   "language": "python",
   "name": "Python [Root]"
  },
  "language_info": {
   "codemirror_mode": {
    "name": "ipython",
    "version": 3
   },
   "file_extension": ".py",
   "mimetype": "text/x-python",
   "name": "python",
   "nbconvert_exporter": "python",
   "pygments_lexer": "ipython3",
   "version": "3.5.2"
  }
 },
 "nbformat": 4,
 "nbformat_minor": 0
}
